{
 "cells": [
  {
   "cell_type": "code",
   "execution_count": 1,
   "id": "f58ff3bb-6194-4839-b6bb-a89a6ed38d8f",
   "metadata": {},
   "outputs": [],
   "source": [
    "import matplotlib.pyplot as plt"
   ]
  },
  {
   "cell_type": "code",
   "execution_count": 24,
   "id": "0fdc4cae-fd20-451a-aeab-7dd92758a618",
   "metadata": {},
   "outputs": [],
   "source": [
    "#Global Paramaters\n",
    "#Monthly amount paid for housing\n",
    "mortgage_cost = 1300\n",
    "#Total Home Value\n",
    "home_value = 250000\n",
    "#Starting Rent\n",
    "rent = 750\n",
    "#Expected annual increase in rent\n",
    "rent_increase = .11\n",
    "#House Appreciation\n",
    "home_value_increase = .05\n",
    "#amount invested\n",
    "deposit = 60000\n",
    "#Average stock market return\n",
    "market_return = .04\n",
    "#amount of time to model\n",
    "time = 10"
   ]
  },
  {
   "cell_type": "code",
   "execution_count": 25,
   "id": "6a4cb308-4540-4a7a-8379-52e76952b6bb",
   "metadata": {},
   "outputs": [],
   "source": [
    "#Calculated Paramaters\n",
    "#total annual housing cost\n",
    "annual_mortgage_cost = mortgage_cost*12\n",
    "#Initialize amount spent on housing at zero\n",
    "spent_on_housing = 0\n",
    "#Initialize home appreciation at zero\n",
    "home_appreciation = 0\n",
    "#object for collecting output table in\n",
    "total_investments = 90000 - deposit"
   ]
  },
  {
   "cell_type": "code",
   "execution_count": 26,
   "id": "92407b64-8a39-4a78-b53e-631c1107af15",
   "metadata": {},
   "outputs": [],
   "source": [
    "#Classes"
   ]
  },
  {
   "cell_type": "code",
   "execution_count": 27,
   "id": "8eeddda7-bf18-478e-950d-7bf4dbd152fd",
   "metadata": {
    "tags": []
   },
   "outputs": [],
   "source": [
    "#timestep\n",
    "def house_year():\n",
    "    home_value = home_value + home_value_increase * home_value\n",
    "    total_investments = total_investments + total_investments * market_return\n",
    "    return home_value, total_investments\n",
    "\n",
    "def rent_year():\n",
    "    rent = rent + rent * rent_increase\n",
    "    total_investments = total_investments + total_investments * market_return\n",
    "    return rent, total_investments"
   ]
  },
  {
   "cell_type": "code",
   "execution_count": 28,
   "id": "e9d31bb6-77f2-4eda-b912-2401cb1e0e01",
   "metadata": {},
   "outputs": [],
   "source": [
    "#Output Generator\n",
    "def total_price(output_table):\n",
    "    total_rent = [year['total_rent'] for year in output_table]\n",
    "    total_mortgage = [year['total_mortgage'] for year in output_table]\n",
    "    fig, ax = plt.subplots()\n",
    "    ax.plot(total_rent, label = \"Rent\")\n",
    "    ax.plot(total_mortgage, label = \"Mortgage\")\n",
    "    ax.set_title('Total Paid for housing')\n",
    "    ax.set_ylabel('USD')\n",
    "    fig.legend()\n",
    "    plt.show()\n",
    "\n"
   ]
  },
  {
   "cell_type": "code",
   "execution_count": 29,
   "id": "3a1eeb16-f70f-49f1-9fc1-8c3312193c76",
   "metadata": {},
   "outputs": [
    {
     "data": {
      "text/plain": [
       "[{'home_value': 262500.0,\n",
       "  'rent': 832.5,\n",
       "  'total_rent': 9000,\n",
       "  'total_mortgage': 15600,\n",
       "  'total_investments': 31200.0},\n",
       " {'home_value': 275625.0,\n",
       "  'rent': 924.075,\n",
       "  'total_rent': 18990.0,\n",
       "  'total_mortgage': 31200,\n",
       "  'total_investments': 32448.0},\n",
       " {'home_value': 289406.25,\n",
       "  'rent': 1025.72325,\n",
       "  'total_rent': 30078.9,\n",
       "  'total_mortgage': 46800,\n",
       "  'total_investments': 33745.92},\n",
       " {'home_value': 303876.5625,\n",
       "  'rent': 1138.5528075,\n",
       "  'total_rent': 42387.579,\n",
       "  'total_mortgage': 62400,\n",
       "  'total_investments': 35095.756799999996},\n",
       " {'home_value': 319070.390625,\n",
       "  'rent': 1263.793616325,\n",
       "  'total_rent': 56050.21269,\n",
       "  'total_mortgage': 78000,\n",
       "  'total_investments': 36499.587071999995},\n",
       " {'home_value': 335023.91015625,\n",
       "  'rent': 1402.8109141207499,\n",
       "  'total_rent': 71215.7360859,\n",
       "  'total_mortgage': 93600,\n",
       "  'total_investments': 37959.570554879996},\n",
       " {'home_value': 351775.1056640625,\n",
       "  'rent': 1557.1201146740323,\n",
       "  'total_rent': 88049.467055349,\n",
       "  'total_mortgage': 109200,\n",
       "  'total_investments': 39477.953377075195},\n",
       " {'home_value': 369363.86094726564,\n",
       "  'rent': 1728.403327288176,\n",
       "  'total_rent': 106734.90843143739,\n",
       "  'total_mortgage': 124800,\n",
       "  'total_investments': 41057.0715121582},\n",
       " {'home_value': 387832.05399462895,\n",
       "  'rent': 1918.5276932898753,\n",
       "  'total_rent': 127475.74835889551,\n",
       "  'total_mortgage': 140400,\n",
       "  'total_investments': 42699.354372644535},\n",
       " {'home_value': 407223.6566943604,\n",
       "  'rent': 2129.5657395517615,\n",
       "  'total_rent': 150498.080678374,\n",
       "  'total_mortgage': 156000,\n",
       "  'total_investments': 44407.328547550314}]"
      ]
     },
     "execution_count": 29,
     "metadata": {},
     "output_type": "execute_result"
    }
   ],
   "source": [
    "#Main\n",
    "num_years = 0\n",
    "output_table = []\n",
    "total_rent = 0\n",
    "while num_years < time:\n",
    "    num_years += 1\n",
    "    if rent:\n",
    "        total_rent += rent*12\n",
    "        rent, total_investments = rent_year():\n",
    "    home_value, total_investments, rent = one_year()\n",
    "    output_table.append({\n",
    "        'home_value': home_value,\n",
    "        'rent':rent,\n",
    "        'total_rent':total_rent,\n",
    "        'total_mortgage': mortgage_cost * num_years * 12,\n",
    "        'total_investments':total_investments    \n",
    "    })\n",
    "       \n",
    "output_table\n",
    "    "
   ]
  },
  {
   "cell_type": "code",
   "execution_count": 30,
   "id": "298333a3-9dfb-48dc-84be-b3d47d1239d2",
   "metadata": {},
   "outputs": [
    {
     "data": {
      "image/png": "[encoded data removed]",
      "text/plain": [
       "<Figure size 432x288 with 1 Axes>"
      ]
     },
     "metadata": {
      "needs_background": "light"
     },
     "output_type": "display_data"
    }
   ],
   "source": [
    "total_price(output_table)"
   ]
  },
  {
   "cell_type": "code",
   "execution_count": null,
   "id": "040bf77f-f12e-42c7-be31-fe2e9b983be3",
   "metadata": {},
   "outputs": [],
   "source": []
  }
 ],
 "metadata": {
  "kernelspec": {
   "display_name": "Python 3",
   "language": "python",
   "name": "python3"
  },
  "language_info": {
   "codemirror_mode": {
    "name": "ipython",
    "version": 3
   },
   "file_extension": ".py",
   "mimetype": "text/x-python",
   "name": "python",
   "nbconvert_exporter": "python",
   "pygments_lexer": "ipython3",
   "version": "3.8.8"
  }
 },
 "nbformat": 4,
 "nbformat_minor": 5
}
