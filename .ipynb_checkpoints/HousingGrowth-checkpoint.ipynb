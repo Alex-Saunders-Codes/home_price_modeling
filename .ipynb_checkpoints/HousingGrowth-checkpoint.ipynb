{
 "cells": [
  {
   "cell_type": "code",
   "execution_count": 1,
   "id": "366ae502-0ad1-441d-a9a7-d87819c3e748",
   "metadata": {},
   "outputs": [],
   "source": [
    "import pandas as pd"
   ]
  },
  {
   "cell_type": "code",
   "execution_count": 3,
   "id": "f53d5fa3-b9c3-46d0-bcba-8e52555d8f74",
   "metadata": {},
   "outputs": [],
   "source": [
    "housing = pd.read_csv('MSPUS.csv')"
   ]
  },
  {
   "cell_type": "code",
   "execution_count": 4,
   "id": "8af1e4c7-ce4a-4cba-b2e9-f530a9e1157d",
   "metadata": {},
   "outputs": [
    {
     "data": {
      "text/html": [
       "<div>\n",
       "<style scoped>\n",
       "    .dataframe tbody tr th:only-of-type {\n",
       "        vertical-align: middle;\n",
       "    }\n",
       "\n",
       "    .dataframe tbody tr th {\n",
       "        vertical-align: top;\n",
       "    }\n",
       "\n",
       "    .dataframe thead th {\n",
       "        text-align: right;\n",
       "    }\n",
       "</style>\n",
       "<table border=\"1\" class=\"dataframe\">\n",
       "  <thead>\n",
       "    <tr style=\"text-align: right;\">\n",
       "      <th></th>\n",
       "      <th>DATE</th>\n",
       "      <th>MSPUS</th>\n",
       "    </tr>\n",
       "  </thead>\n",
       "  <tbody>\n",
       "    <tr>\n",
       "      <th>0</th>\n",
       "      <td>1963-01-01</td>\n",
       "      <td>17800.0</td>\n",
       "    </tr>\n",
       "    <tr>\n",
       "      <th>1</th>\n",
       "      <td>1963-04-01</td>\n",
       "      <td>18000.0</td>\n",
       "    </tr>\n",
       "    <tr>\n",
       "      <th>2</th>\n",
       "      <td>1963-07-01</td>\n",
       "      <td>17900.0</td>\n",
       "    </tr>\n",
       "    <tr>\n",
       "      <th>3</th>\n",
       "      <td>1963-10-01</td>\n",
       "      <td>18500.0</td>\n",
       "    </tr>\n",
       "    <tr>\n",
       "      <th>4</th>\n",
       "      <td>1964-01-01</td>\n",
       "      <td>18500.0</td>\n",
       "    </tr>\n",
       "    <tr>\n",
       "      <th>...</th>\n",
       "      <td>...</td>\n",
       "      <td>...</td>\n",
       "    </tr>\n",
       "    <tr>\n",
       "      <th>232</th>\n",
       "      <td>2021-01-01</td>\n",
       "      <td>369800.0</td>\n",
       "    </tr>\n",
       "    <tr>\n",
       "      <th>233</th>\n",
       "      <td>2021-04-01</td>\n",
       "      <td>382600.0</td>\n",
       "    </tr>\n",
       "    <tr>\n",
       "      <th>234</th>\n",
       "      <td>2021-07-01</td>\n",
       "      <td>411200.0</td>\n",
       "    </tr>\n",
       "    <tr>\n",
       "      <th>235</th>\n",
       "      <td>2021-10-01</td>\n",
       "      <td>423600.0</td>\n",
       "    </tr>\n",
       "    <tr>\n",
       "      <th>236</th>\n",
       "      <td>2022-01-01</td>\n",
       "      <td>428700.0</td>\n",
       "    </tr>\n",
       "  </tbody>\n",
       "</table>\n",
       "<p>237 rows × 2 columns</p>\n",
       "</div>"
      ],
      "text/plain": [
       "           DATE     MSPUS\n",
       "0    1963-01-01   17800.0\n",
       "1    1963-04-01   18000.0\n",
       "2    1963-07-01   17900.0\n",
       "3    1963-10-01   18500.0\n",
       "4    1964-01-01   18500.0\n",
       "..          ...       ...\n",
       "232  2021-01-01  369800.0\n",
       "233  2021-04-01  382600.0\n",
       "234  2021-07-01  411200.0\n",
       "235  2021-10-01  423600.0\n",
       "236  2022-01-01  428700.0\n",
       "\n",
       "[237 rows x 2 columns]"
      ]
     },
     "execution_count": 4,
     "metadata": {},
     "output_type": "execute_result"
    }
   ],
   "source": [
    "housing"
   ]
  },
  {
   "cell_type": "code",
   "execution_count": 27,
   "id": "cd32b9dc-c0cf-49a8-a155-027dcd11a01a",
   "metadata": {},
   "outputs": [
    {
     "data": {
      "text/plain": [
       "0      17800.0\n",
       "1      18500.0\n",
       "2      20200.0\n",
       "3      21000.0\n",
       "4      22300.0\n",
       "5      23900.0\n",
       "6      25700.0\n",
       "7      23900.0\n",
       "8      24300.0\n",
       "9      26200.0\n",
       "10     30200.0\n",
       "11     35200.0\n",
       "12     38100.0\n",
       "13     42800.0\n",
       "14     46300.0\n",
       "15     53000.0\n",
       "16     60600.0\n",
       "17     63700.0\n",
       "18     66800.0\n",
       "19     66400.0\n",
       "20     73300.0\n",
       "21     78200.0\n",
       "22     82800.0\n",
       "23     88000.0\n",
       "24     97900.0\n",
       "25    110000.0\n",
       "26    118000.0\n",
       "27    123900.0\n",
       "28    120000.0\n",
       "29    119500.0\n",
       "30    125000.0\n",
       "31    130000.0\n",
       "32    130000.0\n",
       "33    137000.0\n",
       "34    145000.0\n",
       "35    152200.0\n",
       "36    157400.0\n",
       "37    165300.0\n",
       "38    169800.0\n",
       "39    188700.0\n",
       "40    186000.0\n",
       "41    212700.0\n",
       "42    232500.0\n",
       "43    247700.0\n",
       "44    257400.0\n",
       "45    233900.0\n",
       "46    208400.0\n",
       "47    222900.0\n",
       "48    226900.0\n",
       "49    238400.0\n",
       "50    258400.0\n",
       "51    275200.0\n",
       "52    289200.0\n",
       "53    299800.0\n",
       "54    313100.0\n",
       "55    331800.0\n",
       "56    313000.0\n",
       "57    329000.0\n",
       "58    369800.0\n",
       "59    428700.0\n",
       "Name: MSPUS, dtype: float64"
      ]
     },
     "execution_count": 27,
     "metadata": {},
     "output_type": "execute_result"
    }
   ],
   "source": [
    "annual = housing.loc[housing['DATE'].apply(lambda x: '-01-' in x)].reset_index()['MSPUS']\n",
    "annual"
   ]
  },
  {
   "cell_type": "code",
   "execution_count": 32,
   "id": "06bc2882-3c4d-40fb-bc6b-fda6fbb1558c",
   "metadata": {},
   "outputs": [],
   "source": [
    "change = []\n",
    "for item in range(1,len(annual)):\n",
    "    change.append(((annual[item] - annual[item-1]) / annual[item])*100) "
   ]
  },
  {
   "cell_type": "code",
   "execution_count": 33,
   "id": "b65e31c7-3a70-4961-a87d-d55423bfce3e",
   "metadata": {},
   "outputs": [],
   "source": [
    "import seaborn as sns"
   ]
  },
  {
   "cell_type": "code",
   "execution_count": 37,
   "id": "b0fe1105-1c40-447d-9975-fab81830f9eb",
   "metadata": {},
   "outputs": [
    {
     "data": {
      "text/plain": [
       "<AxesSubplot:ylabel='Density'>"
      ]
     },
     "execution_count": 37,
     "metadata": {},
     "output_type": "execute_result"
    },
    {
     "data": {
      "image/png": "[encoded data removed]",
      "text/plain": [
       "<Figure size 432x288 with 1 Axes>"
      ]
     },
     "metadata": {
      "needs_background": "light"
     },
     "output_type": "display_data"
    }
   ],
   "source": [
    "sns.kdeplot(change)"
   ]
  },
  {
   "cell_type": "code",
   "execution_count": null,
   "id": "130beac4-8a4f-46e1-9a4d-db02ccd96890",
   "metadata": {},
   "outputs": [],
   "source": []
  }
 ],
 "metadata": {
  "kernelspec": {
   "display_name": "Python 3",
   "language": "python",
   "name": "python3"
  },
  "language_info": {
   "codemirror_mode": {
    "name": "ipython",
    "version": 3
   },
   "file_extension": ".py",
   "mimetype": "text/x-python",
   "name": "python",
   "nbconvert_exporter": "python",
   "pygments_lexer": "ipython3",
   "version": "3.8.8"
  }
 },
 "nbformat": 4,
 "nbformat_minor": 5
}
