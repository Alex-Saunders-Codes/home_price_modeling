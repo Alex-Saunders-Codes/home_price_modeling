{
 "cells": [
  {
   "cell_type": "code",
   "execution_count": 1,
   "id": "f58ff3bb-6194-4839-b6bb-a89a6ed38d8f",
   "metadata": {},
   "outputs": [],
   "source": [
    "import matplotlib\n",
    "import plotly"
   ]
  },
  {
   "cell_type": "code",
   "execution_count": null,
   "id": "0fdc4cae-fd20-451a-aeab-7dd92758a618",
   "metadata": {},
   "outputs": [],
   "source": [
    "#Global Paramaters\n",
    "#Monthly amount paid for housing\n",
    "housing_cost = 1300\n",
    "#Expected annual increase in rent\n",
    "rent_increase = .11\n",
    "#House Appreciation\n",
    "home_value_increase = .05\n",
    "#Average stock market return\n",
    "market_return = .04\n",
    "#amount of time to model\n",
    "time = 5"
   ]
  },
  {
   "cell_type": "code",
   "execution_count": null,
   "id": "6a4cb308-4540-4a7a-8379-52e76952b6bb",
   "metadata": {},
   "outputs": [],
   "source": [
    "#total annual housing cost\n",
    "annual_housing_cost = housing_cost*12\n",
    "#object for collecting output table in\n",
    "output_table = []"
   ]
  },
  {
   "cell_type": "code",
   "execution_count": null,
   "id": "8eeddda7-bf18-478e-950d-7bf4dbd152fd",
   "metadata": {},
   "outputs": [],
   "source": [
    "#timestep\n",
    "def one_year(housing, rent_increase, home_value_increase, market_return, house)\n"
   ]
  },
  {
   "cell_type": "code",
   "execution_count": null,
   "id": "b3878f02-cf06-4ed5-b7e6-32c755f8101f",
   "metadata": {},
   "outputs": [],
   "source": [
    "#Calculator Methods "
   ]
  },
  {
   "cell_type": "code",
   "execution_count": null,
   "id": "e9d31bb6-77f2-4eda-b912-2401cb1e0e01",
   "metadata": {},
   "outputs": [],
   "source": [
    "#Output Generator"
   ]
  },
  {
   "cell_type": "code",
   "execution_count": null,
   "id": "3a1eeb16-f70f-49f1-9fc1-8c3312193c76",
   "metadata": {},
   "outputs": [],
   "source": [
    "#Main"
   ]
  }
 ],
 "metadata": {
  "kernelspec": {
   "display_name": "Python 3",
   "language": "python",
   "name": "python3"
  },
  "language_info": {
   "codemirror_mode": {
    "name": "ipython",
    "version": 3
   },
   "file_extension": ".py",
   "mimetype": "text/x-python",
   "name": "python",
   "nbconvert_exporter": "python",
   "pygments_lexer": "ipython3",
   "version": "3.8.8"
  }
 },
 "nbformat": 4,
 "nbformat_minor": 5
}
